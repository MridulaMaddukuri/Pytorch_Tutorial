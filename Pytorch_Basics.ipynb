{
  "nbformat": 4,
  "nbformat_minor": 0,
  "metadata": {
    "colab": {
      "name": "Pytorch_Basics.ipynb",
      "version": "0.3.2",
      "provenance": [],
      "collapsed_sections": [],
      "include_colab_link": true
    },
    "kernelspec": {
      "name": "python3",
      "display_name": "Python 3"
    },
    "accelerator": "GPU"
  },
  "cells": [
    {
      "cell_type": "markdown",
      "metadata": {
        "id": "view-in-github",
        "colab_type": "text"
      },
      "source": [
        "[![Open In Colab](https://colab.research.google.com/assets/colab-badge.svg)](https://colab.research.google.com/github/MridulaMaddukuri/Pytorch_Tutorial/blob/master/Pytorch_Basics.ipynb)"
      ]
    },
    {
      "metadata": {
        "id": "6ICdUmYruulG",
        "colab_type": "text"
      },
      "cell_type": "markdown",
      "source": [
        "## Pytorch Basics\n",
        "\n",
        "\n",
        "#### 1. What are tensors?\n",
        "#### 2. Creating Tensors\n",
        "#### 3. Tensor Data types\n",
        "#### 4. Indexing Tensors\n",
        "#### 5. Tensor Manipulation \n",
        "#### 6. Operations on tensors\n",
        "#### 7. Matrix/Vector Operations \n",
        "#### 8. Conversion from and to Numpy\n",
        "#### 9. Performance : Numpy arrays vs tensors on CPU vs tensors on GPU\n",
        "#### 10. What are Variables?\n",
        "#### 11. Activation Funtions\n",
        "\n",
        "\n",
        "\n",
        "\n",
        "\n",
        "\n",
        "\n",
        "\n",
        "\n",
        "\n",
        "\n",
        "\n",
        "---\n",
        "\n",
        "\n",
        "\n",
        "\n",
        "\n",
        "\n",
        "\n",
        "\n",
        "\n"
      ]
    },
    {
      "metadata": {
        "id": "vnHyC8P1cI5L",
        "colab_type": "text"
      },
      "cell_type": "markdown",
      "source": [
        "## Pytorch \n",
        "\n",
        "A Deep Learning framework that provides \n",
        "\n",
        "- Tensors (a replacement for numpy arrays) with strong GPU acceleration \n",
        "- Dynamic Neural Networks (with GPU acceleration)\n",
        "\n",
        "Both features useful in Deep Learning projects \n",
        "\n",
        "\n",
        "#### Comparing with the other popular DL framework: TensorFlow\n",
        "\n",
        "> - Relatively new when compared to ***_TensorFlow_*** but quickly gaining momentum. \n",
        "Easier to adapt to Pytorch due to similarities with numpy.  \n",
        "\n",
        "> - More pythonic \n",
        "\n",
        "> - Offers flexibility to change the NN as you go : change and execute nodes as you go\n",
        "\n",
        "\n",
        "\n",
        "\n",
        "More Pros and Cons can be found in this blog:\n",
        "\n",
        "https://towardsdatascience.com/pytorch-vs-tensorflow-spotting-the-difference-25c75777377b\n",
        "\n",
        "\n"
      ]
    },
    {
      "metadata": {
        "id": "qELA28Gw0JLb",
        "colab_type": "code",
        "colab": {
          "base_uri": "https://localhost:8080/",
          "height": 572
        },
        "outputId": "ae3862cc-82a8-4746-b5a1-95918b0dfdf6"
      },
      "cell_type": "code",
      "source": [
        "# install pytorch\n",
        "!pip3 install http://download.pytorch.org/whl/cu80/torch-0.3.0.post4-cp36-cp36m-linux_x86_64.whl"
      ],
      "execution_count": 2,
      "outputs": [
        {
          "output_type": "stream",
          "text": [
            "Collecting torch==0.3.0.post4 from http://download.pytorch.org/whl/cu80/torch-0.3.0.post4-cp36-cp36m-linux_x86_64.whl\n",
            "\u001b[?25l  Downloading http://download.pytorch.org/whl/cu80/torch-0.3.0.post4-cp36-cp36m-linux_x86_64.whl (592.3MB)\n",
            "\u001b[K    100% |████████████████████████████████| 592.3MB 45.9MB/s \n",
            "\u001b[?25hRequirement already satisfied: pyyaml in /usr/local/lib/python3.6/dist-packages (from torch==0.3.0.post4) (3.13)\n",
            "Requirement already satisfied: numpy in /usr/local/lib/python3.6/dist-packages (from torch==0.3.0.post4) (1.14.6)\n",
            "Installing collected packages: torch\n",
            "Successfully installed torch-0.3.0.post4\n"
          ],
          "name": "stdout"
        }
      ]
    },
    {
      "metadata": {
        "id": "McyBF-f90RSF",
        "colab_type": "code",
        "colab": {}
      },
      "cell_type": "code",
      "source": [
        "# import libraries\n",
        "import torch\n",
        "import numpy as np"
      ],
      "execution_count": 0,
      "outputs": []
    },
    {
      "metadata": {
        "id": "pAFpTbyYzlqP",
        "colab_type": "text"
      },
      "cell_type": "markdown",
      "source": [
        "### 1. What are tensors? \n",
        "\n",
        "A replacement for NumPy to use the power of GPUs "
      ]
    },
    {
      "metadata": {
        "id": "7sEjSilBzpeP",
        "colab_type": "text"
      },
      "cell_type": "markdown",
      "source": [
        "\n",
        "### 2. Creating Tensors"
      ]
    },
    {
      "metadata": {
        "id": "Dw0bo14HwRNU",
        "colab_type": "code",
        "colab": {
          "base_uri": "https://localhost:8080/",
          "height": 153
        },
        "outputId": "850cf5a2-e036-46a5-d8cc-7d335ca83147"
      },
      "cell_type": "code",
      "source": [
        "x = torch.Tensor(2,2)\n",
        "print(\"Shape of tensor x:\" + str(x.shape))\n",
        "print(\"Datatype of x:\" + str(type(x)))\n",
        "print(x) # uninitialized tensor holding garbage values"
      ],
      "execution_count": 3,
      "outputs": [
        {
          "output_type": "stream",
          "text": [
            "Shape of tensor x:torch.Size([2, 2])\n",
            "Datatype of x:<class 'torch.FloatTensor'>\n",
            "\n",
            "1.00000e-19 *\n",
            "  0.0000  0.0000\n",
            "  1.3563  1.3994\n",
            "[torch.FloatTensor of size 2x2]\n",
            "\n"
          ],
          "name": "stdout"
        }
      ]
    },
    {
      "metadata": {
        "id": "fTXoNCJb1FsS",
        "colab_type": "code",
        "colab": {
          "base_uri": "https://localhost:8080/",
          "height": 323
        },
        "outputId": "d602a1e9-1a3f-4a6a-a232-6c1b179a9944"
      },
      "cell_type": "code",
      "source": [
        "torch.manual_seed(2) # to make results reproducible\n",
        "\n",
        "\n",
        "x = torch.rand(2,3)  # returns tensor of shape (2,3) filled with random numbers from a uniform distribution on interval [0,1)\n",
        "#torch.rand? # uncomment to know more\n",
        "\n",
        "y = torch.randn(2,3) # returns a tensor of shape (2,3) filled with random numbers from standard normal distribution : mean =0 , variance = 1\n",
        "\n",
        "#torch.randn? # uncomment to know more\n",
        "\n",
        "print(x,y)\n",
        "# if you want these tensors on GPU\n",
        "x,y = x.cuda(),y.cuda()\n",
        "print(x,y)"
      ],
      "execution_count": 4,
      "outputs": [
        {
          "output_type": "stream",
          "text": [
            "\n",
            " 0.6147  0.3810  0.6371\n",
            " 0.4745  0.7136  0.6190\n",
            "[torch.FloatTensor of size 2x3]\n",
            " \n",
            "-2.1409 -0.5534 -0.5000\n",
            "-0.0815 -0.1633  1.5277\n",
            "[torch.FloatTensor of size 2x3]\n",
            "\n",
            "\n",
            " 0.6147  0.3810  0.6371\n",
            " 0.4745  0.7136  0.6190\n",
            "[torch.cuda.FloatTensor of size 2x3 (GPU 0)]\n",
            " \n",
            "-2.1409 -0.5534 -0.5000\n",
            "-0.0815 -0.1633  1.5277\n",
            "[torch.cuda.FloatTensor of size 2x3 (GPU 0)]\n",
            "\n"
          ],
          "name": "stdout"
        }
      ]
    },
    {
      "metadata": {
        "id": "28Dnz5FpKBKL",
        "colab_type": "code",
        "colab": {
          "base_uri": "https://localhost:8080/",
          "height": 493
        },
        "outputId": "dfeb35b3-bc21-45cf-873e-8a69a78ae0fd"
      },
      "cell_type": "code",
      "source": [
        "# Initialize with a range of values\n",
        "\n",
        "x = torch.arange(5)\n",
        "print(\"arange starting with 0: \")\n",
        "print(x)\n",
        "\n",
        "x = torch.arange(2,20, step = 4)\n",
        "print(\"arange starting with a specific value: \")\n",
        "print(x)\n",
        "\n",
        "\n",
        "\n",
        "# Initialize on a scale\n",
        "x = torch.linspace(0,20, steps = 6) # includes 0 and 20\n",
        "print(\"linspace between a and b with n steps: \")\n",
        "print(x)\n",
        "\n"
      ],
      "execution_count": 5,
      "outputs": [
        {
          "output_type": "stream",
          "text": [
            "arange starting with 0: \n",
            "\n",
            " 0\n",
            " 1\n",
            " 2\n",
            " 3\n",
            " 4\n",
            "[torch.FloatTensor of size 5]\n",
            "\n",
            "arange starting with a specific value: \n",
            "\n",
            "  2\n",
            "  6\n",
            " 10\n",
            " 14\n",
            " 18\n",
            "[torch.FloatTensor of size 5]\n",
            "\n",
            "linspace between a and b with n steps: \n",
            "\n",
            "  0\n",
            "  4\n",
            "  8\n",
            " 12\n",
            " 16\n",
            " 20\n",
            "[torch.FloatTensor of size 6]\n",
            "\n"
          ],
          "name": "stdout"
        }
      ]
    },
    {
      "metadata": {
        "id": "Fnkw--V131JU",
        "colab_type": "text"
      },
      "cell_type": "markdown",
      "source": [
        "### 3. Tensor Data Types \n",
        "\n",
        "(https://pytorch.org/docs/stable/tensor_attributes.html) \n",
        "\n",
        "\n",
        "Common ones we work with: \n",
        "\n",
        "**FloatTensor** : Equivalent to numpy.float32\n",
        "\n",
        "\n",
        "**LongTensor** : Equivalent to numpy.int64\n"
      ]
    },
    {
      "metadata": {
        "id": "mAMoOx_J6B9u",
        "colab_type": "code",
        "colab": {
          "base_uri": "https://localhost:8080/",
          "height": 425
        },
        "outputId": "d70bce38-ad18-4288-8649-5db6d54e640f"
      },
      "cell_type": "code",
      "source": [
        "x = torch.randn([2,3])\n",
        "print(\"Original x: \")\n",
        "print(x)\n",
        "# convert floattensor to long tensor\n",
        "\n",
        "x = x.type(torch.LongTensor)\n",
        "print(\"Datatype modified x: \")\n",
        "print(x)\n",
        "\n",
        "\n",
        "# converting data type of a tensor based on another tensor\n",
        "y = torch.rand([2,2])\n",
        "print(\"Original y: \")\n",
        "print(y)\n",
        "\n",
        "y = y.type_as(x) # tensor x used as reference to change dtype\n",
        "print(\"Datatype of y modified based on x: \")\n",
        "print(y)\n",
        "\n",
        "\n",
        "\n",
        "\n"
      ],
      "execution_count": 6,
      "outputs": [
        {
          "output_type": "stream",
          "text": [
            "Original x: \n",
            "\n",
            "-0.4023  0.0972 -0.5682\n",
            "-1.2692  0.5789 -1.5181\n",
            "[torch.FloatTensor of size 2x3]\n",
            "\n",
            "Datatype modified x: \n",
            "\n",
            " 0  0  0\n",
            "-1  0 -1\n",
            "[torch.LongTensor of size 2x3]\n",
            "\n",
            "Original y: \n",
            "\n",
            " 0.0458  0.1755\n",
            " 0.6177  0.8291\n",
            "[torch.FloatTensor of size 2x2]\n",
            "\n",
            "Datatype of y modified based on x: \n",
            "\n",
            " 0  0\n",
            " 0  0\n",
            "[torch.LongTensor of size 2x2]\n",
            "\n"
          ],
          "name": "stdout"
        }
      ]
    },
    {
      "metadata": {
        "id": "k4PH0Fi1Dh6C",
        "colab_type": "text"
      },
      "cell_type": "markdown",
      "source": [
        "**_Why is this important?_**\n",
        "\n",
        "-- For operations between tensors, they should strictly have the same data type.\n",
        "\n",
        "-- Certain functions are also very specific about the datatypes"
      ]
    },
    {
      "metadata": {
        "id": "76viOsmMDmhr",
        "colab_type": "text"
      },
      "cell_type": "markdown",
      "source": [
        "### 4. Indexing Tensors\n",
        "\n",
        "Very similar to numpy indexing"
      ]
    },
    {
      "metadata": {
        "id": "RqQaXdzHE8jy",
        "colab_type": "code",
        "colab": {
          "base_uri": "https://localhost:8080/",
          "height": 340
        },
        "outputId": "a371a684-a57e-4f98-f683-2d8cbbc9bc4a"
      },
      "cell_type": "code",
      "source": [
        "## 2D tensor\n",
        "\n",
        "x = torch.randn(5,3).type(torch.FloatTensor)\n",
        "print(x)\n",
        "\n",
        "print(\"Indexing the second column\")\n",
        "print(x[:,1])\n",
        "\n",
        "print(\"Indexing the 2nd element of the 4th row\")\n",
        "print(x[3,1])\n"
      ],
      "execution_count": 8,
      "outputs": [
        {
          "output_type": "stream",
          "text": [
            "\n",
            " 1.1125 -0.7474  1.4220\n",
            "-0.5941  0.7546  0.5748\n",
            "-0.8063  0.6410  0.7828\n",
            " 1.6251  0.1756 -0.8472\n",
            "-0.8448 -0.8347 -0.7278\n",
            "[torch.FloatTensor of size 5x3]\n",
            "\n",
            "Indexing the second column\n",
            "\n",
            "-0.7474\n",
            " 0.7546\n",
            " 0.6410\n",
            " 0.1756\n",
            "-0.8347\n",
            "[torch.FloatTensor of size 5]\n",
            "\n",
            "Indexing the 2nd element of the 4th row\n",
            "0.17558613419532776\n"
          ],
          "name": "stdout"
        }
      ]
    },
    {
      "metadata": {
        "id": "RWOU8dNWGDB7",
        "colab_type": "code",
        "colab": {
          "base_uri": "https://localhost:8080/",
          "height": 527
        },
        "outputId": "79c66f1c-f04f-4f2e-8ac4-55098458b35d"
      },
      "cell_type": "code",
      "source": [
        "## 3D tensor\n",
        "\n",
        "y = torch.randn(1,5,3).type(torch.FloatTensor)\n",
        "print(y)\n",
        "\n",
        "print(\"Indexing the 5X3 tensor from y: \")\n",
        "print(y[0,:,:])\n",
        "\n",
        "print(\"Indexing the 1X3 tensor from y:\")\n",
        "print(y[:,0,:])\n",
        "\n",
        "print(\"Indexing the size 3 tensor from y:\")\n",
        "print(y[0,0,:])"
      ],
      "execution_count": 47,
      "outputs": [
        {
          "output_type": "stream",
          "text": [
            "\n",
            "(0 ,.,.) = \n",
            " -0.0602 -0.8961  0.8293\n",
            " -0.5403  0.5956 -0.7712\n",
            "  0.0709 -0.8890 -1.6091\n",
            "  0.5055  0.9108  0.8569\n",
            " -1.0442  0.1758  0.6451\n",
            "[torch.FloatTensor of size 1x5x3]\n",
            "\n",
            "Indexing the 5X3 tensor from y: \n",
            "\n",
            "-0.0602 -0.8961  0.8293\n",
            "-0.5403  0.5956 -0.7712\n",
            " 0.0709 -0.8890 -1.6091\n",
            " 0.5055  0.9108  0.8569\n",
            "-1.0442  0.1758  0.6451\n",
            "[torch.FloatTensor of size 5x3]\n",
            "\n",
            "Indexing the 1X3 tensor from y:\n",
            "\n",
            "-0.0602 -0.8961  0.8293\n",
            "[torch.FloatTensor of size 1x3]\n",
            "\n",
            "Indexing the 3 tensor from y:\n",
            "\n",
            "-0.0602\n",
            "-0.8961\n",
            " 0.8293\n",
            "[torch.FloatTensor of size 3]\n",
            "\n"
          ],
          "name": "stdout"
        }
      ]
    },
    {
      "metadata": {
        "id": "rtc6dmL6Hj0a",
        "colab_type": "text"
      },
      "cell_type": "markdown",
      "source": [
        "### 5. Tensor Manipulation "
      ]
    },
    {
      "metadata": {
        "id": "JwhbFiw2Hm0Z",
        "colab_type": "code",
        "colab": {
          "base_uri": "https://localhost:8080/",
          "height": 884
        },
        "outputId": "497872fc-ff4e-43bf-ff09-4e293118548c"
      },
      "cell_type": "code",
      "source": [
        "\n",
        "x = torch.arange(9)\n",
        "print(x)\n",
        "print(x.shape)\n",
        "\n",
        "\n",
        "# Squeeze and unsqueeze : to add or remove a dimension\n",
        "print(\"Unsqueeze on the first axis to get a row vector: \")\n",
        "x = torch.unsqueeze(x,0) \n",
        "print(x) \n",
        "\n",
        "print(\"Squeeze to get rid of the additional dimension: \")\n",
        "x= torch.squeeze(x,0) # specify squeeze dimension: the dimension we want to get rid of \n",
        "print(x)\n",
        "\n",
        "print(\"Unsqueeze on the second axis to get a column vector: \")\n",
        "x = torch.unsqueeze(x,1) \n",
        "print(x)\n",
        "\n",
        "# View : similar to numpy.reshape\n",
        "print(\"Reshape the tensor: \")\n",
        "x = x.view(3,3) \n",
        "print(x)\n",
        "\n"
      ],
      "execution_count": 3,
      "outputs": [
        {
          "output_type": "stream",
          "text": [
            "\n",
            " 0\n",
            " 1\n",
            " 2\n",
            " 3\n",
            " 4\n",
            " 5\n",
            " 6\n",
            " 7\n",
            " 8\n",
            "[torch.FloatTensor of size 9]\n",
            "\n",
            "torch.Size([9])\n",
            "Unsqueeze on the first axis to get a row vector: \n",
            "\n",
            "    0     1     2     3     4     5     6     7     8\n",
            "[torch.FloatTensor of size 1x9]\n",
            "\n",
            "Squeeze to get rid of the additional dimension: \n",
            "\n",
            " 0\n",
            " 1\n",
            " 2\n",
            " 3\n",
            " 4\n",
            " 5\n",
            " 6\n",
            " 7\n",
            " 8\n",
            "[torch.FloatTensor of size 9]\n",
            "\n",
            "Unsqueeze on the second axis to get a column vector: \n",
            "\n",
            "    0\n",
            "    1\n",
            "    2\n",
            "    3\n",
            "    4\n",
            "    5\n",
            "    6\n",
            "    7\n",
            "    8\n",
            "[torch.FloatTensor of size 9x1]\n",
            "\n",
            "Reshape the tensor: \n",
            "\n",
            " 0  1  2\n",
            " 3  4  5\n",
            " 6  7  8\n",
            "[torch.FloatTensor of size 3x3]\n",
            "\n"
          ],
          "name": "stdout"
        }
      ]
    },
    {
      "metadata": {
        "id": "SfbHvsxYQQCk",
        "colab_type": "code",
        "colab": {
          "base_uri": "https://localhost:8080/",
          "height": 306
        },
        "outputId": "41ab56d8-1aeb-451d-e95a-dcc4a92cadc3"
      },
      "cell_type": "code",
      "source": [
        "# Concatenation\n",
        "print(\"Concatenate in the 0th dimension:\")\n",
        "print(torch.cat((x,x),0))\n",
        "\n",
        "print(\"Concatenate in the 1st dimension:\")\n",
        "print(torch.cat((x,x),1))"
      ],
      "execution_count": 10,
      "outputs": [
        {
          "output_type": "stream",
          "text": [
            "Concatenate in the 0th dimension:\n",
            "\n",
            " 0  1  2\n",
            " 3  4  5\n",
            " 6  7  8\n",
            " 0  1  2\n",
            " 3  4  5\n",
            " 6  7  8\n",
            "[torch.FloatTensor of size 6x3]\n",
            "\n",
            "Concatenate in the 1st dimension:\n",
            "\n",
            " 0  1  2  0  1  2\n",
            " 3  4  5  3  4  5\n",
            " 6  7  8  6  7  8\n",
            "[torch.FloatTensor of size 3x6]\n",
            "\n"
          ],
          "name": "stdout"
        }
      ]
    },
    {
      "metadata": {
        "id": "nJFdPX8rQ1AT",
        "colab_type": "code",
        "colab": {
          "base_uri": "https://localhost:8080/",
          "height": 493
        },
        "outputId": "c4b30b79-6d90-4aa7-96ec-feae04cfedf7"
      },
      "cell_type": "code",
      "source": [
        "# Stacking\n",
        "print(\"Stacking on 0th dimension: \")\n",
        "print(torch.stack((x,x),0))\n",
        "\n",
        "print(\"Stacking on first dimension: \")\n",
        "print(torch.stack((x,x),1))"
      ],
      "execution_count": 11,
      "outputs": [
        {
          "output_type": "stream",
          "text": [
            "Stacking on 0th dimension: \n",
            "\n",
            "(0 ,.,.) = \n",
            "  0  1  2\n",
            "  3  4  5\n",
            "  6  7  8\n",
            "\n",
            "(1 ,.,.) = \n",
            "  0  1  2\n",
            "  3  4  5\n",
            "  6  7  8\n",
            "[torch.FloatTensor of size 2x3x3]\n",
            "\n",
            "Stacking on first dimension: \n",
            "\n",
            "(0 ,.,.) = \n",
            "  0  1  2\n",
            "  0  1  2\n",
            "\n",
            "(1 ,.,.) = \n",
            "  3  4  5\n",
            "  3  4  5\n",
            "\n",
            "(2 ,.,.) = \n",
            "  6  7  8\n",
            "  6  7  8\n",
            "[torch.FloatTensor of size 3x2x3]\n",
            "\n"
          ],
          "name": "stdout"
        }
      ]
    },
    {
      "metadata": {
        "id": "w_NebQfeHy1j",
        "colab_type": "text"
      },
      "cell_type": "markdown",
      "source": [
        "### 6. Operations on Tensors"
      ]
    },
    {
      "metadata": {
        "id": "ujjiZwaeTZdV",
        "colab_type": "code",
        "colab": {
          "base_uri": "https://localhost:8080/",
          "height": 459
        },
        "outputId": "90e09807-604a-4e86-e993-ed55fea97cc6"
      },
      "cell_type": "code",
      "source": [
        "x= torch.randn(2,3)\n",
        "print(x)\n",
        "\n",
        "print(\"Get absolute values\")\n",
        "print(torch.abs(x))\n",
        "\n",
        "\n",
        "print(\"Get the over all mean\")\n",
        "print(torch.mean(x))\n",
        "\n",
        "\n",
        "print(\"Get the means in the first dimension: \")\n",
        "print(torch.mean(x,0))\n",
        "\n",
        "print(\"Get element wise square: \")\n",
        "print(x.pow(2))"
      ],
      "execution_count": 12,
      "outputs": [
        {
          "output_type": "stream",
          "text": [
            "\n",
            "-1.7490  1.3883 -0.1098\n",
            " 1.2384  0.5407  0.5787\n",
            "[torch.FloatTensor of size 2x3]\n",
            "\n",
            "Get absolute values\n",
            "\n",
            " 1.7490  1.3883  0.1098\n",
            " 1.2384  0.5407  0.5787\n",
            "[torch.FloatTensor of size 2x3]\n",
            "\n",
            "Get the over all mean\n",
            "0.3145650302370389\n",
            "Get the means in the first dimension: \n",
            "\n",
            "-0.2553\n",
            " 0.9645\n",
            " 0.2345\n",
            "[torch.FloatTensor of size 3]\n",
            "\n",
            "Get element wise square: \n",
            "\n",
            " 3.0590  1.9274  0.0121\n",
            " 1.5336  0.2924  0.3349\n",
            "[torch.FloatTensor of size 2x3]\n",
            "\n"
          ],
          "name": "stdout"
        }
      ]
    },
    {
      "metadata": {
        "id": "wEK9aN3cH5cx",
        "colab_type": "text"
      },
      "cell_type": "markdown",
      "source": [
        "### 7. Matrix/Vector Operations"
      ]
    },
    {
      "metadata": {
        "id": "OMIbPtMeIIb4",
        "colab_type": "code",
        "colab": {
          "base_uri": "https://localhost:8080/",
          "height": 476
        },
        "outputId": "0dc47c37-c081-44ee-8221-bd6f5a823b19"
      },
      "cell_type": "code",
      "source": [
        "## MATRICES \n",
        "x = torch.ones(2,2)\n",
        "\n",
        "y = torch.rand(2,2)\n",
        "\n",
        "print(x,y)\n",
        "\n",
        "\n",
        "# addition\n",
        "print(\"Sum of x and y: \")\n",
        "Sum = x+y\n",
        "print(Sum)\n",
        "\n",
        "\n",
        "# element wise multiplication\n",
        "print(\"Element wise multiplication of x and y:\")\n",
        "mul = torch.mul(x,y)\n",
        "print(mul)\n",
        "\n",
        "# Matrix multiplication \n",
        "print(\"Matrix multiplication of x and y: \")\n",
        "MatMul = x.mm(y)\n",
        "print(MatMul)\n",
        "\n",
        "\n"
      ],
      "execution_count": 13,
      "outputs": [
        {
          "output_type": "stream",
          "text": [
            "\n",
            " 1  1\n",
            " 1  1\n",
            "[torch.FloatTensor of size 2x2]\n",
            " \n",
            " 0.8177  0.8756\n",
            " 0.0064  0.5755\n",
            "[torch.FloatTensor of size 2x2]\n",
            "\n",
            "Sum of x and y: \n",
            "\n",
            " 1.8177  1.8756\n",
            " 1.0064  1.5755\n",
            "[torch.FloatTensor of size 2x2]\n",
            "\n",
            "Element wise multiplication of x and y:\n",
            "\n",
            " 0.8177  0.8756\n",
            " 0.0064  0.5755\n",
            "[torch.FloatTensor of size 2x2]\n",
            "\n",
            "Matrix multiplication of x and y: \n",
            "\n",
            " 0.8241  1.4511\n",
            " 0.8241  1.4511\n",
            "[torch.FloatTensor of size 2x2]\n",
            "\n"
          ],
          "name": "stdout"
        }
      ]
    },
    {
      "metadata": {
        "id": "-fsAnJLXdhVQ",
        "colab_type": "code",
        "colab": {
          "base_uri": "https://localhost:8080/",
          "height": 493
        },
        "outputId": "489642c8-aa02-4f6c-dc0b-87500c010681"
      },
      "cell_type": "code",
      "source": [
        "## VECTORS:\n",
        "\n",
        "x = torch.arange(5)\n",
        "#x= torch.unsqueeze(x,1)\n",
        "print(x)\n",
        "\n",
        "y = torch.arange(1,6)\n",
        "print(y)\n",
        "\n",
        "# inner product\n",
        "print(\"Inner Product: \")\n",
        "inner = torch.dot(x,y) # will produce a scalar. Make sure x and y are of the same size\n",
        "print(inner)\n",
        "\n",
        "\n",
        "# outer product\n",
        "print(\"\\nOuter Product: \")\n",
        "outer = torch.ger(x,y) # will produce a matrix of size size(x) X size(y)\n",
        "print(outer)\n",
        "\n"
      ],
      "execution_count": 14,
      "outputs": [
        {
          "output_type": "stream",
          "text": [
            "\n",
            " 0\n",
            " 1\n",
            " 2\n",
            " 3\n",
            " 4\n",
            "[torch.FloatTensor of size 5]\n",
            "\n",
            "\n",
            " 1\n",
            " 2\n",
            " 3\n",
            " 4\n",
            " 5\n",
            "[torch.FloatTensor of size 5]\n",
            "\n",
            "Inner Product: \n",
            "40.0\n",
            "\n",
            "Outer Product: \n",
            "\n",
            "  0   0   0   0   0\n",
            "  1   2   3   4   5\n",
            "  2   4   6   8  10\n",
            "  3   6   9  12  15\n",
            "  4   8  12  16  20\n",
            "[torch.FloatTensor of size 5x5]\n",
            "\n"
          ],
          "name": "stdout"
        }
      ]
    },
    {
      "metadata": {
        "id": "4M00L_mPIIxI",
        "colab_type": "text"
      },
      "cell_type": "markdown",
      "source": [
        "### 8. Conversion from and to Numpy"
      ]
    },
    {
      "metadata": {
        "id": "LFaxNKiLINqb",
        "colab_type": "code",
        "colab": {
          "base_uri": "https://localhost:8080/",
          "height": 255
        },
        "outputId": "181b1ece-171e-4170-f900-fd3bdf9deaf0"
      },
      "cell_type": "code",
      "source": [
        "x = np.array([[1,2],[3,4]])\n",
        "print(x)\n",
        "print(type(x))\n",
        "\n",
        "\n",
        "\n",
        "# From numpy ndarray to Tensor\n",
        "print(\"\\nConverted to : \")\n",
        "x_tensor = torch.from_numpy(x)\n",
        "print(x_tensor)\n",
        "\n",
        "\n",
        "# From Tensor to numpy ndarray\n",
        "print(\"Converted back to : \")\n",
        "print(x_tensor.numpy())\n",
        "print(type(x_tensor.numpy()))"
      ],
      "execution_count": 15,
      "outputs": [
        {
          "output_type": "stream",
          "text": [
            "[[1 2]\n",
            " [3 4]]\n",
            "<class 'numpy.ndarray'>\n",
            "\n",
            "Converted to : \n",
            "\n",
            " 1  2\n",
            " 3  4\n",
            "[torch.LongTensor of size 2x2]\n",
            "\n",
            "Converted back to : \n",
            "[[1 2]\n",
            " [3 4]]\n",
            "<class 'numpy.ndarray'>\n"
          ],
          "name": "stdout"
        }
      ]
    },
    {
      "metadata": {
        "id": "aveb2nTVWEMz",
        "colab_type": "text"
      },
      "cell_type": "markdown",
      "source": [
        "### 9. Performance:  Numpy arrays vs Tensors on CPU vs Tensors on GPU "
      ]
    },
    {
      "metadata": {
        "id": "ImcvzgVkWOiC",
        "colab_type": "code",
        "colab": {
          "base_uri": "https://localhost:8080/",
          "height": 119
        },
        "outputId": "a27163bd-d985-440e-c497-cebff8e422f5"
      },
      "cell_type": "code",
      "source": [
        "\n",
        "# numpy ndarray on CPU\n",
        "print(\"Numpy array on CPU\")\n",
        "x = np.random.random((1,64))\n",
        "y = np.random.random((1000, 64))\n",
        "%timeit z = (x*y).sum(axis=1)\n",
        "\n",
        "# torch Tensor on CPU\n",
        "print(\"Tensor on CPU\")\n",
        "x = torch.from_numpy(x)\n",
        "y = torch.from_numpy(y)\n",
        "%timeit z=(x*y).sum(dim=1)\n",
        "\n",
        "# torch Tensor on GPU\n",
        "print(\"Tensor on GPU\")\n",
        "x, y = x.cuda(), y.cuda()\n",
        "%timeit z = (x*y).sum(dim=1)\n"
      ],
      "execution_count": 14,
      "outputs": [
        {
          "output_type": "stream",
          "text": [
            "Numpy array on CPU\n",
            "1000 loops, best of 3: 185 µs per loop\n",
            "Tensor on CPU\n",
            "1000 loops, best of 3: 235 µs per loop\n",
            "Tensor on GPU\n",
            "10000 loops, best of 3: 75.8 µs per loop\n"
          ],
          "name": "stdout"
        }
      ]
    },
    {
      "metadata": {
        "id": "6CJME867IOWV",
        "colab_type": "text"
      },
      "cell_type": "markdown",
      "source": [
        "### 10. What are Variables?\n",
        "\n",
        "\n",
        "Autograd package: "
      ]
    },
    {
      "metadata": {
        "id": "ytaeODCQITvq",
        "colab_type": "code",
        "colab": {
          "base_uri": "https://localhost:8080/",
          "height": 238
        },
        "outputId": "b9a4700e-994a-4edb-987a-b131789b67ba"
      },
      "cell_type": "code",
      "source": [
        "from torch.autograd import Variable\n",
        "\n",
        "\n",
        "x = torch.Tensor([4.0]) #[1,2,3],[3,4,5]\n",
        "print(\"When the shape of x is: \"+str(x.shape))\n",
        "var = Variable(x,requires_grad = True) # can differentiate wrt this # FOCUS MORE\n",
        "print(var)\n",
        "\n",
        "\n",
        "# when the output is scalar\n",
        "y = torch.mean(2*var)\n",
        "\n",
        "print(y)\n",
        "\n",
        "y.backward() # This will throw an error\n",
        "\n",
        "\n",
        "print(var.grad)\n"
      ],
      "execution_count": 16,
      "outputs": [
        {
          "output_type": "stream",
          "text": [
            "When the shape of x is: torch.Size([1])\n",
            "Variable containing:\n",
            " 4\n",
            "[torch.FloatTensor of size 1]\n",
            "\n",
            "Variable containing:\n",
            " 8\n",
            "[torch.FloatTensor of size 1]\n",
            "\n",
            "Variable containing:\n",
            " 2\n",
            "[torch.FloatTensor of size 1]\n",
            "\n"
          ],
          "name": "stdout"
        }
      ]
    },
    {
      "metadata": {
        "id": "i3RVyB4nvxQt",
        "colab_type": "text"
      },
      "cell_type": "markdown",
      "source": [
        "#### When x is an m X n Tensor\n",
        "\n",
        "\\begin{equation}\n",
        "x = \n",
        "\\begin{bmatrix}\n",
        "  x_{11} & x_{12} \\\\\n",
        "  x_{21} & x_{22} \n",
        "\\end{bmatrix} \n",
        "\\end{equation}\n",
        "\n",
        "\n",
        "\n",
        "\\begin{equation}\n",
        "y = mean(2*x)\n",
        "\\end{equation}\n",
        "\n",
        "\n",
        "\n",
        "\\begin{equation}\n",
        " y = 2 \\times 1/4 \\times (x_{11} +x_{12} +x_{21}+x_{22}  )\n",
        "\\end{equation}\n",
        "\n",
        "\\begin{equation}\n",
        "\\frac{dy}{dx} = \n",
        "\\begin{bmatrix}\n",
        "  \\frac{\\partial y}{\\partial x_{11}} & \\frac{\\partial y}{\\partial x_{12}} \\\\\n",
        "  \\frac{\\partial y}{\\partial x_{21}} & \\frac{\\partial y}{\\partial x_{22}} \n",
        "\\end{bmatrix} \n",
        "\\end{equation}\n",
        "\n"
      ]
    },
    {
      "metadata": {
        "id": "vNY1ThSBvusY",
        "colab_type": "code",
        "colab": {
          "base_uri": "https://localhost:8080/",
          "height": 331
        },
        "outputId": "5e17161e-92d4-4c85-c1c7-43feba2fdf04"
      },
      "cell_type": "code",
      "source": [
        "x = torch.Tensor([[1,2],[3,4]]) #[1,2,3],[3,4,5]\n",
        "print(\"When the shape of x is: \"+str(x.shape))\n",
        "print(\"Wrapping Tensor x into Variable x:\")\n",
        "var = Variable(x,requires_grad = True) # can differentiate wrt this # FOCUS MORE\n",
        "print(var)\n",
        "print(\"Variables essentially tensors but with an ability to \\\n",
        "  utilize autograd package to compute gradients \")\n",
        "\n",
        "\n",
        "# when the output is scalar\n",
        "y = torch.mean(2*var.pow(2))\n",
        "\n",
        "print(y)\n",
        "\n",
        "y.backward() # This will throw an error\n",
        "\n",
        "\n",
        "print(var.grad)"
      ],
      "execution_count": 24,
      "outputs": [
        {
          "output_type": "stream",
          "text": [
            "When the shape of x is: torch.Size([2, 2])\n",
            "Wrapping Tensor x into Variable x:\n",
            "Variable containing:\n",
            " 1  2\n",
            " 3  4\n",
            "[torch.FloatTensor of size 2x2]\n",
            "\n",
            "Variables essentially tensors but with an ability to   utilize autograd package to compute gradients \n",
            "Variable containing:\n",
            " 15\n",
            "[torch.FloatTensor of size 1]\n",
            "\n",
            "Variable containing:\n",
            " 1  2\n",
            " 3  4\n",
            "[torch.FloatTensor of size 2x2]\n",
            "\n"
          ],
          "name": "stdout"
        }
      ]
    },
    {
      "metadata": {
        "id": "VliO2r4s3hIa",
        "colab_type": "text"
      },
      "cell_type": "markdown",
      "source": [
        "#### 11. Activation Functions\n",
        "\n",
        "Activation functions can be found here :** Torch.nn.functional**"
      ]
    },
    {
      "metadata": {
        "id": "w14pCfTC3S_J",
        "colab_type": "code",
        "colab": {
          "base_uri": "https://localhost:8080/",
          "height": 362
        },
        "outputId": "f751d026-c79b-49f4-926a-b73d11def76a"
      },
      "cell_type": "code",
      "source": [
        "import torch.nn.functional as F\n",
        "import matplotlib.pyplot as plt\n",
        "x = torch.linspace(-5,5,1000)\n",
        "x = Variable(x)\n",
        "\n",
        "# using activation function \n",
        "y_relu = F.relu(x)\n",
        "y_sigmoid = F.sigmoid(x)\n",
        "y_tanh = F.tanh(x)\n",
        "\n",
        "\n",
        "\n",
        "# plt to visualize these activation function\n",
        "plt.plot(x.data.numpy(), y_relu.data.numpy(), c='red', label='relu')\n",
        "plt.plot(x.data.numpy(), y_sigmoid.data.numpy(), c='blue', label='sigmoid')\n",
        "plt.plot(x.data.numpy(), y_tanh.data.numpy(), c='green', label='tanh')\n",
        "plt.plot()\n",
        "plt.ylim((-1.5, 1.5))\n",
        "plt.title(\"Activation Functions\")\n",
        "plt.legend(loc='best');\n"
      ],
      "execution_count": 17,
      "outputs": [
        {
          "output_type": "display_data",
          "data": {
            "image/png": "[encoded data removed]",
            "text/plain": [
              "<matplotlib.figure.Figure at 0x7fd1876c30f0>"
            ]
          },
          "metadata": {
            "tags": []
          }
        }
      ]
    },
    {
      "metadata": {
        "id": "y3wWeB9h49yP",
        "colab_type": "code",
        "colab": {}
      },
      "cell_type": "code",
      "source": [
        "\"\"\"# When the output is non scalar\n",
        "\n",
        "x = Variable(torch.randn(10), requires_grad=True)\n",
        "print(x)\n",
        "y = x ** 2\n",
        "print(y)\n",
        "\n",
        "#grad = torch.randn(10)\n",
        "#print(grad)\n",
        "\n",
        "torch.autograd.backward([y], [x])\n",
        "\n",
        "\"\"\""
      ],
      "execution_count": 0,
      "outputs": []
    }
  ]
}